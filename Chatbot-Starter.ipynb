{
 "cells": [
  {
   "cell_type": "markdown",
   "metadata": {},
   "source": [
    "![Save2Drive](https://raw.githubusercontent.com/alahnala/AI4All2020-Michigan-NLP/master/slides/save2drive.png)"
   ]
  },
  {
   "cell_type": "markdown",
   "metadata": {},
   "source": [
    "# Starter Code for Making a Chatbot\n",
    "\n",
    "Resources: \n",
    "\n",
    "1. [BotDesign](http://cfwelch.com/botdesign/login/): Created by a student in the LIT lab, this is a tool you can use to learn about making rules for your chatbot without needing to code. You could test out ideas there before translating your rules to code"
   ]
  },
  {
   "cell_type": "markdown",
   "metadata": {},
   "source": [
    "![ChatBot](https://raw.githubusercontent.com/alahnala/AI4All2020-Michigan-NLP/master/slides/ChatBot.png)"
   ]
  },
  {
   "cell_type": "markdown",
   "metadata": {},
   "source": [
    "## Bot Functions - run the cell below to load the functions\n",
    "\n",
    "### `get_input` creates an input box for the user to enter text\n",
    "\n",
    "### `get_bot_reply` takes in the user's message and decides how to reply. \n",
    "\n",
    "**Quit rule** - There is one pre-written rule for ending the session: \n",
    "1. if the user enters **\"quit\"**, `bot_reply` is set to **\"Thank you for chatting!\"** and `Continue_Session` is set to **`False`**. \n",
    "2. The function returns the `bot_reply` and `Continue_Session` value to the main chatloop assigning them to `bot_reply` and `Continue_Session` respectively. \n",
    "3. The bot then prints out `bot_reply` and since `Continue_Session` is now **`False`**, the while loop ends."
   ]
  },
  {
   "cell_type": "code",
   "execution_count": 1,
   "metadata": {},
   "outputs": [],
   "source": [
    "def get_input():\n",
    "    \n",
    "    user_message = input()\n",
    "    \n",
    "    return user_message\n",
    "\n",
    "def get_bot_reply(user_message):\n",
    "    \n",
    "    Continue_Session = True\n",
    "    \n",
    "    bot_reply = 'No rule to handle this message yet.'\n",
    "    \n",
    "    if user_message.lower().strip() == 'quit':\n",
    "        Continue_Session = False\n",
    "        bot_reply = 'Thank you for chatting!'\n",
    "    elif 1 == 0:\n",
    "        bot_reply = 'Reponse to new rule'\n",
    "    '''\n",
    "    Get started on making some new rules!\n",
    "\n",
    "    Replace False with a statement that can be evaluated as True or False about the user_message, \n",
    "    and come up with a new reply message that you want the bot to send the user\n",
    "    '''  \n",
    "    return bot_reply, Continue_Session"
   ]
  },
  {
   "cell_type": "markdown",
   "metadata": {},
   "source": [
    "## Chatloop - the cell below conducts the chatbot system\n",
    "\n",
    "1. First it calls `get_input` to get the `user_message`\n",
    "2. Then it calls `get_bot_reply` with the `user_message` as input"
   ]
  },
  {
   "cell_type": "code",
   "execution_count": 3,
   "metadata": {},
   "outputs": [
    {
     "name": "stdout",
     "output_type": "stream",
     "text": [
      "Computer: Welcome to the chatbot!\n",
      "Me: Hello\n",
      "Computer: No rule to handle this message yet.\n",
      "Me: What's up?\n",
      "Computer: No rule to handle this message yet.\n",
      "Me: quit\n",
      "Computer: Thank you for chatting!\n"
     ]
    }
   ],
   "source": [
    "Continue_Session = True\n",
    "\n",
    "Welcome_Message = 'Welcome to the chatbot!'\n",
    "print(\"Computer:\", Welcome_Message)\n",
    "\n",
    "while Continue_Session:\n",
    "    print(\"Me:\", end=' ', flush=True)\n",
    "    user_message = get_input()\n",
    "    bot_reply, Continue_Session = get_bot_reply(user_message)\n",
    "    print(\"Computer:\", bot_reply)"
   ]
  },
  {
   "cell_type": "code",
   "execution_count": null,
   "metadata": {},
   "outputs": [],
   "source": []
  }
 ],
 "metadata": {
  "kernelspec": {
   "display_name": "Python 3",
   "language": "python",
   "name": "python3"
  },
  "language_info": {
   "codemirror_mode": {
    "name": "ipython",
    "version": 3
   },
   "file_extension": ".py",
   "mimetype": "text/x-python",
   "name": "python",
   "nbconvert_exporter": "python",
   "pygments_lexer": "ipython3",
   "version": "3.7.5"
  }
 },
 "nbformat": 4,
 "nbformat_minor": 4
}

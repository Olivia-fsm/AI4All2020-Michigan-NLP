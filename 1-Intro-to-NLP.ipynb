{
 "cells": [
  {
   "cell_type": "markdown",
   "metadata": {},
   "source": [
    "### [Link to Intro to NLP Slides](https://docs.google.com/presentation/d/1N1cj7IeSfkGjHcYQHEmbj13WAlga7K7O2jTRMr9BmKM/)"
   ]
  },
  {
   "cell_type": "markdown",
   "metadata": {},
   "source": [
    "# Run the cells below to get setup"
   ]
  },
  {
   "cell_type": "code",
   "execution_count": 1,
   "metadata": {},
   "outputs": [],
   "source": [
    "import sys, os\n",
    "IN_COLAB = 'google.colab' in sys.modules\n",
    "\n",
    "if IN_COLAB:\n",
    "  !rm -r AI4All2020-Michigan-NLP\n",
    "  !git clone https://github.com/alahnala/AI4All2020-Michigan-NLP.git\n",
    "  !cp -r AI4All2020-Michigan-NLP/utils/ .\n",
    "  !cp -r AI4All2020-Michigan-NLP/Data/ .\n",
    "  !cp -r AI4All2020-Michigan-NLP/slides/ .\n",
    "  !cp -r AI4All2020-Michigan-NLP/Experiment-Report-Templates/ .\n",
    "  !echo \"=== Files Copied ===\""
   ]
  },
  {
   "cell_type": "code",
   "execution_count": 2,
   "metadata": {},
   "outputs": [
    {
     "name": "stderr",
     "output_type": "stream",
     "text": [
      "[nltk_data] Downloading package punkt to\n",
      "[nltk_data]     /Users/allielahnala/nltk_data...\n",
      "[nltk_data]   Package punkt is already up-to-date!\n"
     ]
    },
    {
     "name": "stdout",
     "output_type": "stream",
     "text": [
      "Done\n"
     ]
    }
   ],
   "source": [
    "import pandas as pd\n",
    "import nltk\n",
    "nltk.download('punkt')\n",
    "from nltk.stem.snowball import PorterStemmer\n",
    "from utils.nlp_basics import *\n",
    "from utils.syllable import *\n",
    "print('Done')"
   ]
  },
  {
   "cell_type": "markdown",
   "metadata": {},
   "source": [
    "# Outline\n",
    "\n",
    "1. Tokenization\n",
    "2. Lemmatization\n",
    "3. Stemming\n",
    "4. Part-of-speech tagging\n",
    "5. Stopwords"
   ]
  },
  {
   "cell_type": "markdown",
   "metadata": {},
   "source": [
    "![Tokenization](https://raw.githubusercontent.com/alahnala/AI4All2020-Michigan-NLP/master/slides/tokenization.png)"
   ]
  },
  {
   "cell_type": "markdown",
   "metadata": {},
   "source": [
    "# Let's play with the string sequence `cake_wikipedia`\n",
    "\n",
    "## 1. Simplest tokenizer: split on spaces\n",
    "\n",
    "Run the cell below. Here we split the sequence by spaces. How would you describe these tokens?"
   ]
  },
  {
   "cell_type": "code",
   "execution_count": null,
   "metadata": {},
   "outputs": [],
   "source": [
    "# The first few sentences from the wikipedia page on Cake https://en.wikipedia.org/wiki/Cake\n",
    "cake_wikipedia = 'Cake is a form of sweet food made from flour, sugar, and other ingredients, that is usually baked. In their oldest forms, cakes were modifications of bread, but cakes now cover a wide range of preparations that can be simple or elaborate, and that share features with other desserts such as pastries, meringues, custards, and pies.'\n",
    "\n",
    "# calling .split() on a string will split the string on spaces\n",
    "tokens = cake_wikipedia.split()\n",
    "show_tokens(tokens)\n"
   ]
  },
  {
   "cell_type": "markdown",
   "metadata": {},
   "source": [
    "## 2. Split on spaces and separate punctuation from words.\n",
    "\n",
    "Run the cell below. How would you describe these tokens?"
   ]
  },
  {
   "cell_type": "code",
   "execution_count": null,
   "metadata": {},
   "outputs": [],
   "source": [
    "# nltk is a library that is open for anyone to use. \n",
    "# It stands for \"natural language tool kit\" and has many useful functions\n",
    "from nltk.tokenize import word_tokenize\n",
    "\n",
    "# We use nltk's function \"word_tokenize\"\n",
    "tokens = word_tokenize(cake_wikipedia)\n",
    "\n",
    "show_tokens(tokens)"
   ]
  },
  {
   "cell_type": "markdown",
   "metadata": {},
   "source": [
    "## 3. Split on syllables.\n",
    "\n",
    "Run the cell below. How would you describe these tokens?"
   ]
  },
  {
   "cell_type": "code",
   "execution_count": null,
   "metadata": {},
   "outputs": [],
   "source": [
    "syllable_tokenize = SyllableTokenizer()\n",
    "tokens = syllable_tokenize.tokenize(cake_wikipedia)\n",
    "\n",
    "# Show table\n",
    "show_tokens(tokens)"
   ]
  },
  {
   "cell_type": "markdown",
   "metadata": {},
   "source": [
    "## 4. Challenge: What are some tokenization considerations to make if you're working with tweets?\n",
    "\n",
    "Try making a tokenizer that keeps hashtags with the # and user handles with the @."
   ]
  },
  {
   "cell_type": "code",
   "execution_count": null,
   "metadata": {},
   "outputs": [],
   "source": [
    "tweet = '@RiikkaTheCat is a #CoolCat :D:)'\n",
    "\n",
    "def tokenizer(string):\n",
    "    \n",
    "    ## Your code (use as many lines as you like)\n",
    "    tokens = \n",
    "    \n",
    "    \n",
    "    return tokens\n",
    "\n",
    "\n",
    "tokens = tokenizer(tweet)\n",
    "print(tokens)"
   ]
  },
  {
   "cell_type": "markdown",
   "metadata": {},
   "source": [
    "## Would tokenization in English look the same as other languages?"
   ]
  },
  {
   "cell_type": "code",
   "execution_count": null,
   "metadata": {},
   "outputs": [],
   "source": [
    "french = \"C'est en effet tout à fait dans la ligne des positions que notre Parlement a toujours adoptées.\"\n"
   ]
  },
  {
   "cell_type": "code",
   "execution_count": null,
   "metadata": {},
   "outputs": [],
   "source": [
    "tokens = french.split()\n",
    "show_tokens(tokens)"
   ]
  },
  {
   "cell_type": "code",
   "execution_count": null,
   "metadata": {},
   "outputs": [],
   "source": [
    "tokens = word_tokenize(french, language='french')\n",
    "show_tokens(tokens)"
   ]
  },
  {
   "cell_type": "markdown",
   "metadata": {},
   "source": [
    "![Lemmatization](https://raw.githubusercontent.com/alahnala/AI4All2020-Michigan-NLP/master/slides/lemmas.png)"
   ]
  },
  {
   "cell_type": "markdown",
   "metadata": {},
   "source": [
    "# Lemmatization"
   ]
  },
  {
   "cell_type": "code",
   "execution_count": null,
   "metadata": {},
   "outputs": [],
   "source": [
    "tokens = word_tokenize(cake_wikipedia)\n",
    "\n",
    "import spacy\n",
    "\n",
    "# Uses nlp pipeline from spacy to obtain linguistic features\n",
    "nlp = spacy.load(\"en_core_web_sm\", disable=['parser', 'ner'])\n",
    "\n",
    "doc = nlp(\"\".join(cake_wikipedia))\n",
    "allowed_postags=['NOUN', 'ADJ', 'VERB', 'ADV']\n",
    "\n",
    "# Get lemmas\n",
    "lemmas = [token.lemma_ for token in doc]\n",
    "\n",
    "# Here we are making a list of original tokens and a list of stemmed tokens for only the tokens that changed after stemming\n",
    "lemmas_diff = [lemma for token, lemma in zip(tokens, lemmas) if token.lower() != lemma]\n",
    "og = [token for token, lemma in zip(tokens, lemmas) if token.lower() != lemma]\n",
    "\n",
    "# Show table\n",
    "show_lemmas(og, lemmas_diff)\n"
   ]
  },
  {
   "cell_type": "markdown",
   "metadata": {},
   "source": [
    "![Stemming](https://raw.githubusercontent.com/alahnala/AI4All2020-Michigan-NLP/master/slides/stemming.png)"
   ]
  },
  {
   "cell_type": "markdown",
   "metadata": {},
   "source": [
    "# Stemming"
   ]
  },
  {
   "cell_type": "code",
   "execution_count": null,
   "metadata": {},
   "outputs": [],
   "source": [
    "# Define a module that will stem the text for us\n",
    "stemmer = PorterStemmer()\n",
    "\n",
    "# Use the stemmer on our text\n",
    "stemmed = [stemmer.stem(token) for token in tokens]\n",
    "\n",
    "\n",
    "# Here we are making a list of original tokens and a list of stemmed tokens for only the tokens that changed after stemming\n",
    "og = [token for token, stem in zip(tokens, stemmed) if token.lower() != stem]\n",
    "stemmed_diff = [stem for token, stem in zip(tokens, stemmed) if token.lower() != stem]\n",
    "\n",
    "# Put stemmed data and text in a dataframe so we can output a table\n",
    "data = {'Stems': stemmed_diff, 'Text':og}\n",
    "df = pd.DataFrame(data, columns = ['Text', 'Stems'])\n",
    "\n",
    "# Show table\n",
    "df.T"
   ]
  },
  {
   "cell_type": "markdown",
   "metadata": {},
   "source": [
    "![Part-of-Speech Tagging](https://raw.githubusercontent.com/alahnala/AI4All2020-Michigan-NLP/master/slides/pos.png)"
   ]
  },
  {
   "cell_type": "markdown",
   "metadata": {},
   "source": [
    "# Part-of-speech tagging"
   ]
  },
  {
   "cell_type": "code",
   "execution_count": null,
   "metadata": {},
   "outputs": [],
   "source": [
    "# https://en.wikipedia.org/wiki/Cake\n",
    "cake_wikipedia = 'Cake is a form of sweet food made from flour, sugar, and other ingredients, that is usually baked. In their oldest forms, cakes were modifications of bread, but cakes now cover a wide range of preparations that can be simple or elaborate, and that share features with other desserts such as pastries, meringues, custards, and pies.'\n",
    "\n",
    "# Uses nlp pipeline from spacy to obtain linguistic features\n",
    "doc = nlp(\"\".join(cake_wikipedia))\n",
    "\n",
    "data = {'Text':[token.text for token in doc], 'Lemma':[token.lemma_ for token in doc], 'Part-of-speech':[token.pos_ for token in doc], 'Dependency':[token.dep_ for token in doc], 'Shape':[token.shape_ for token in doc], 'Is Alpha':[token.is_alpha for token in doc], 'Stopword':[token.is_stop for token in doc]}\n",
    "df = pd.DataFrame (data, columns = ['Text', 'Part-of-speech'])\n",
    "\n",
    "\n",
    "df.T # show data (T means transpose, excluding the T is fine too)"
   ]
  },
  {
   "cell_type": "markdown",
   "metadata": {},
   "source": [
    "![Removing Stopwords](https://raw.githubusercontent.com/alahnala/AI4All2020-Michigan-NLP/master/slides/stopwords.png)"
   ]
  },
  {
   "cell_type": "markdown",
   "metadata": {},
   "source": [
    "# Stopwords"
   ]
  },
  {
   "cell_type": "markdown",
   "metadata": {},
   "source": [
    "Run the cell below and observe which words are stopwords if they have **True** in the stopword row"
   ]
  },
  {
   "cell_type": "code",
   "execution_count": null,
   "metadata": {},
   "outputs": [],
   "source": [
    "df = pd.DataFrame (data, columns = ['Text', 'Stopword'])\n",
    "df.T"
   ]
  },
  {
   "cell_type": "markdown",
   "metadata": {},
   "source": [
    "Run the cell below to observe just the stopwords in our text"
   ]
  },
  {
   "cell_type": "code",
   "execution_count": null,
   "metadata": {},
   "outputs": [],
   "source": [
    "stopwords = df.loc[df['Stopword'] == True]\n",
    "stopwords.T"
   ]
  },
  {
   "cell_type": "markdown",
   "metadata": {},
   "source": [
    "# References\n",
    "\n",
    "1. https://www.nltk.org/api/nltk.tokenize.html\n",
    "2. https://www.nltk.org/_modules/nltk/tokenize/sonority_sequencing.html#SyllableTokenizer\n",
    "3. https://spacy.io/api/lemmatizer\n",
    "4. https://spacy.io/usage/linguistic-features\n",
    "5. https://universaldependencies.org/docs/u/pos/"
   ]
  }
 ],
 "metadata": {
  "kernelspec": {
   "display_name": "Python 3",
   "language": "python",
   "name": "python3"
  },
  "language_info": {
   "codemirror_mode": {
    "name": "ipython",
    "version": 3
   },
   "file_extension": ".py",
   "mimetype": "text/x-python",
   "name": "python",
   "nbconvert_exporter": "python",
   "pygments_lexer": "ipython3",
   "version": "3.7.5"
  }
 },
 "nbformat": 4,
 "nbformat_minor": 4
}

{
 "cells": [
  {
   "cell_type": "markdown",
   "metadata": {},
   "source": [
    "![Save2Drive](https://raw.githubusercontent.com/alahnala/AI4All2020-Michigan-NLP/master/slides/save2drive.png)"
   ]
  },
  {
   "cell_type": "markdown",
   "metadata": {},
   "source": [
    "# Outline\n",
    "\n",
    "### Introduction\n",
    "0. Brief introductory reading\n",
    "\n",
    "### Implement Simple Model\n",
    "1. Implementation: Preprocessing\n",
    "2. Implementation: Training the simple model\n",
    "3. Brief reading about evaluation\n",
    "4. Implementation: Making predictions\n",
    "5. Evaluating the simple model\n",
    "6. Analysis\n",
    "\n",
    "### Implement Bigram Model\n",
    "6. Implementation: Preprocessing\n",
    "7. Implementation: Training the bigram model\n",
    "8. Implementation: Making predictions\n",
    "9. Evaluating the bigram model"
   ]
  },
  {
   "cell_type": "markdown",
   "metadata": {},
   "source": [
    "# 0. Introductory Reading (3 minutes)"
   ]
  },
  {
   "cell_type": "markdown",
   "metadata": {},
   "source": [
    "![Language Identification](https://raw.githubusercontent.com/alahnala/AI4All2020-Michigan-NLP/master/slides/lang-ident-1.png)"
   ]
  },
  {
   "cell_type": "markdown",
   "metadata": {},
   "source": [
    "![Intuition](LanguageDetectionSlides/Slide2.png)"
   ]
  },
  {
   "cell_type": "markdown",
   "metadata": {},
   "source": [
    "## Your project\n",
    "\n",
    "In this project, you will build a system that predicts the language of a string of text. There are many methods for doing this, but you will be implementing the simplest method, that is often the most or highly effective.\n",
    "\n",
    "\n"
   ]
  },
  {
   "cell_type": "markdown",
   "metadata": {},
   "source": [
    "**Setup**"
   ]
  },
  {
   "cell_type": "code",
   "execution_count": 1,
   "metadata": {},
   "outputs": [],
   "source": [
    "# Setup - run\n",
    "from utils.lang_detect_helpers import *\n",
    "from tqdm import tqdm\n",
    "from collections import Counter"
   ]
  },
  {
   "cell_type": "markdown",
   "metadata": {},
   "source": [
    "# 1. Preprocessing"
   ]
  },
  {
   "cell_type": "markdown",
   "metadata": {},
   "source": [
    "## 1.1 Write a preprocess function. Refer to the 1-intro notebook for ideas!"
   ]
  },
  {
   "cell_type": "code",
   "execution_count": 2,
   "metadata": {},
   "outputs": [],
   "source": [
    "def preprocess(text):\n",
    "    '''\n",
    "    (Template) Implement preprocessing for language detection. Input is a string, and output should be a list of strings.\n",
    "    '''\n",
    "    preprocessed_text = text\n",
    "    return preprocessed_text # should be a list of strings"
   ]
  },
  {
   "cell_type": "code",
   "execution_count": 3,
   "metadata": {},
   "outputs": [
    {
     "data": {
      "text/plain": [
       "'Hello!! Making a system that can tell me the language of a string of text will unlock many possibilities! :D'"
      ]
     },
     "execution_count": 3,
     "metadata": {},
     "output_type": "execute_result"
    }
   ],
   "source": [
    "test = 'Hello!! Making a system that can tell me the language of a string of text will unlock many possibilities! :D'\n",
    "preprocess(test)"
   ]
  },
  {
   "cell_type": "markdown",
   "metadata": {},
   "source": [
    "## 1.2. Run the cells to preprocess each language's text"
   ]
  },
  {
   "cell_type": "code",
   "execution_count": 4,
   "metadata": {},
   "outputs": [],
   "source": [
    "# Preprocess your english text\n",
    "preprocessed_english_text = preprocess(english_text)\n",
    "\n",
    "# Preprocess your german text\n",
    "preprocessed_german_text = preprocess(german_text)\n",
    "\n",
    "# Preprocess your dutch text\n",
    "preprocessed_dutch_text = preprocess(dutch_text)"
   ]
  },
  {
   "cell_type": "markdown",
   "metadata": {},
   "source": [
    "# 2. Train the model"
   ]
  },
  {
   "cell_type": "markdown",
   "metadata": {},
   "source": [
    "## 2.1 Implement the \"train\" function for our simplified model we introduced\n",
    "\n",
    "-For this training step, we simply need to count each unit (as you've preprocessed) of the string"
   ]
  },
  {
   "cell_type": "code",
   "execution_count": 5,
   "metadata": {},
   "outputs": [],
   "source": [
    "def train(strings):\n",
    "    '''\n",
    "    (Solution) Implement the train function for our simplified method.\n",
    "    \n",
    "    Input: A list of preprocessed strings.\n",
    "    Output: A dictionary of counts of each string.\n",
    "    '''\n",
    "    unigram = defaultdict(lambda:0)\n",
    "            \n",
    "    for item in strings:\n",
    "        unigram[item] += 1\n",
    "\n",
    "    return unigram"
   ]
  },
  {
   "cell_type": "markdown",
   "metadata": {},
   "source": [
    "## 2.1 Run the \"train\" function on the text of each language."
   ]
  },
  {
   "cell_type": "code",
   "execution_count": 6,
   "metadata": {},
   "outputs": [],
   "source": [
    "unigram_dicts['English'] = train(preprocessed_english_text)\n",
    "unigram_dicts['German'] = train(preprocessed_german_text)\n",
    "unigram_dicts['Dutch'] = train(preprocessed_dutch_text)"
   ]
  },
  {
   "cell_type": "markdown",
   "metadata": {},
   "source": [
    "# 3. (Read) Evaluating model at test time\n",
    "\n",
    "Spend a few minutes reading and running the code for 3.1 - 3.3."
   ]
  },
  {
   "cell_type": "markdown",
   "metadata": {},
   "source": [
    "### 3.1. `test_strings`\n",
    "At test time, we will take a list of strings called `test_strings` and use our model to predict the language of the strings."
   ]
  },
  {
   "cell_type": "code",
   "execution_count": 7,
   "metadata": {},
   "outputs": [
    {
     "name": "stdout",
     "output_type": "stream",
     "text": [
      "0 Description   Historians write in the context of their own time, and with due regard to the current dominant ideas of how to interpret the past, and sometimes write to provide lessons for their own society.\n",
      "1 Diese nachträgliche Geschichtserkenntnis gründet sich auf Überreste und Tradition.\n",
      "2 tot 800 v.Chr.\n",
      "3 Geschichtsschreibung und Geschichte der Geschichtsschreibung).\n"
     ]
    }
   ],
   "source": [
    "# Run to observe the first 4 test strings.\n",
    "\n",
    "for i, string in enumerate(test_strings[:4]):\n",
    "    print(i, string)"
   ]
  },
  {
   "cell_type": "markdown",
   "metadata": {},
   "source": [
    "### 3.2. `ground_truth`\n",
    "To see how good our model is, we have a list called `ground_truth` which as the true language of each string, which we are hoping to predict with our model. We use **accuracy** (number correct divided by total number) as the metric to measure how well the model does."
   ]
  },
  {
   "cell_type": "code",
   "execution_count": 8,
   "metadata": {},
   "outputs": [
    {
     "name": "stdout",
     "output_type": "stream",
     "text": [
      "0 English\n",
      "1 German\n",
      "2 Dutch\n",
      "3 German\n"
     ]
    }
   ],
   "source": [
    "# Run to observe the first ground truth languages for the 4 test strings.\n",
    "\n",
    "for i, language in enumerate(ground_truth[:4]):\n",
    "    print(i, language)"
   ]
  },
  {
   "cell_type": "markdown",
   "metadata": {},
   "source": [
    "### 3.3. Random baseline\n",
    "* Language detection is a **classification task.** In order to believe that a model is actually learns anything, we would want to see significant performance over a **random baseline,** which is a \"model\" in a sense. This \"model\" is one that \"guesses\" the language of each sample randomly.  \n",
    "\n",
    "* In this project, we have three languages: English, German, and Dutch. Our test set has an even split over the 3 languages, so we should expect our **random baseline** model to perform at about 33.33% accuracy. "
   ]
  },
  {
   "cell_type": "code",
   "execution_count": 9,
   "metadata": {},
   "outputs": [
    {
     "name": "stdout",
     "output_type": "stream",
     "text": [
      "Language | # Test Items\n",
      "English | 66\n",
      "German | 66\n",
      "Dutch | 66\n",
      "--------------- \n",
      " Total | 198\n",
      "\n",
      "Accuracy of randomly guessing: about 33.33%\n"
     ]
    }
   ],
   "source": [
    "language_count = Counter(ground_truth)\n",
    "\n",
    "print('Language','|', '# Test Items')\n",
    "for language, count in language_count.items():\n",
    "    print(language,'|', count)\n",
    "print('-' * 15, '\\n', 'Total','|', sum(language_count.values()))\n",
    "print(\"\\nAccuracy of randomly guessing: about {:.2%}\".format(Counter(ground_truth)['English']/198))"
   ]
  },
  {
   "cell_type": "markdown",
   "metadata": {},
   "source": [
    "# 4. Test time"
   ]
  },
  {
   "cell_type": "markdown",
   "metadata": {},
   "source": [
    "## 4.1 write the function `identify_language`"
   ]
  },
  {
   "cell_type": "code",
   "execution_count": 10,
   "metadata": {},
   "outputs": [],
   "source": [
    "def identify_language(test_string, languages, unigram_dicts):\n",
    "    '''\n",
    "    (Solution) Fill in this function to predict the language of test_string\n",
    "    \n",
    "    input: test_string, list of our languages, unigram_dicts\n",
    "    output: one of the languages\n",
    "    '''\n",
    "    \n",
    "    probabilities = {'English': 1, 'German': 1, 'Dutch': 1}\n",
    "    \n",
    "    for lang in languages:\n",
    "        for i in range(len(test_string)):\n",
    "            \n",
    "            unigram = test_string[i]\n",
    "            \n",
    "            top = unigram_dicts[lang][unigram]\n",
    "            bottom = len(unigram_dicts[lang])\n",
    "\n",
    "\n",
    "            probability_i = (top / bottom)\n",
    "            probabilities[lang] = probabilities[lang] * probability_i\n",
    "    \n",
    "    highest_probability_language = get_highest_probability_language(probabilities)\n",
    "    return highest_probability_language"
   ]
  },
  {
   "cell_type": "markdown",
   "metadata": {},
   "source": [
    "## 4.2 Run the cell below to call `identify_language` on each test string, saving the predictions in the list `predictions`"
   ]
  },
  {
   "cell_type": "code",
   "execution_count": 11,
   "metadata": {},
   "outputs": [
    {
     "name": "stdout",
     "output_type": "stream",
     "text": [
      "First 10 predictions:\n",
      " ['English', 'German', 'German', 'German', 'German', 'English', 'German', 'German', 'English', 'German']\n"
     ]
    }
   ],
   "source": [
    "# Run to call your identify_language function on each test string to make the language predictions\n",
    "\n",
    "predictions = []\n",
    "for line in test_strings:\n",
    "    preprocessed_line = preprocess(line)\n",
    "    prediction = identify_language(preprocessed_line, languages, unigram_dicts)\n",
    "    predictions.append(prediction)\n",
    "\n",
    "print(\"First 10 predictions:\\n\", predictions[:10])"
   ]
  },
  {
   "cell_type": "markdown",
   "metadata": {},
   "source": [
    "# 5. Evaluate your model"
   ]
  },
  {
   "cell_type": "markdown",
   "metadata": {},
   "source": [
    "## 5.1. Run the cell to call the function `evaluate,` which will compute the accuracy of your model's predictions."
   ]
  },
  {
   "cell_type": "code",
   "execution_count": 12,
   "metadata": {},
   "outputs": [
    {
     "name": "stdout",
     "output_type": "stream",
     "text": [
      "Accuracy: 62.12%. 123 out of 198 predictions were correct.\n"
     ]
    }
   ],
   "source": [
    "accuracy, data = evaluate(predictions, ground_truth, test_strings)\n",
    "print(accuracy)"
   ]
  },
  {
   "cell_type": "markdown",
   "metadata": {},
   "source": [
    "## 5.2. The evaluate function also created a data structure called `data`. For each ground truth language, `data` keeps track of which language each string was predicted as. Run the cell below to conceptualize what `data` looks like.**"
   ]
  },
  {
   "cell_type": "code",
   "execution_count": 13,
   "metadata": {},
   "outputs": [
    {
     "name": "stdout",
     "output_type": "stream",
     "text": [
      "English example predicted to be English:\n",
      " ---------------------------------------- \n",
      " Description   Historians write in the context of their own time, and with due regard to the current dominant ideas of how to interpret the past, and sometimes write to provide lessons for their own society.\n",
      "\n",
      "\n",
      "English example predicted to be German:\n",
      " ---------------------------------------- \n",
      " But writing is the marker that separates history from what comes before.\n",
      "\n",
      "\n",
      "English example predicted to be Dutch:\n",
      " ---------------------------------------- \n",
      " History was borrowed from Latin (possibly via Old Irish or Old Welsh) into Old English as stær ('history, narrative, story'), but this word fell out of use in the late Old English period.\n"
     ]
    }
   ],
   "source": [
    "show_data_structure(data)"
   ]
  },
  {
   "cell_type": "markdown",
   "metadata": {},
   "source": [
    "## 5.3. Using `data`, we can create a visual to help us perform error analysis. Run the cell below to call the function `actual_vs_predicted`. It will output a figure that will show us the number of English samples correctly classified as English, incorrectly classified as German and Dutch, and the same for the other languages. If our model is perfect, we would see a diagonal of cells with `66`. The function `actual_vs_predicted_text(data)` will output descriptive text for the matrix to help you interpret this matrix.**"
   ]
  },
  {
   "cell_type": "code",
   "execution_count": 14,
   "metadata": {},
   "outputs": [
    {
     "data": {
      "text/plain": [
       "<Figure size 432x288 with 0 Axes>"
      ]
     },
     "metadata": {},
     "output_type": "display_data"
    },
    {
     "data": {
      "image/png": "[encoded data removed]",
      "text/plain": [
       "<Figure size 864x576 with 2 Axes>"
      ]
     },
     "metadata": {
      "needs_background": "light"
     },
     "output_type": "display_data"
    },
    {
     "name": "stdout",
     "output_type": "stream",
     "text": [
      "54 English sentences were predicted to be English\n",
      "1 English sentences were predicted to be Dutch\n",
      "11 English sentences were predicted to be German\n",
      "\n",
      "\n",
      "64 German sentences were predicted to be German\n",
      "0 German sentences were predicted to be Dutch\n",
      "2 German sentences were predicted to be English\n",
      "\n",
      "\n",
      "5 Dutch sentences were predicted to be Dutch\n",
      "55 Dutch sentences were predicted to be German\n",
      "6 Dutch sentences were predicted to be English\n"
     ]
    }
   ],
   "source": [
    "actual_vs_predicted(languages, data)\n",
    "actual_vs_predicted_text(data)"
   ]
  },
  {
   "cell_type": "markdown",
   "metadata": {},
   "source": [
    "# 6. Analysis\n",
    "\n",
    "Did your model operate perfectly? Likely, there are at least a few errors. Use the space below to study the predictions made by your model. Try to answer the following questions with your analysis:\n",
    "\n",
    "### 1. Are there clear differences between the strings that the model predicted **English** correctly, and the strings the model incorrectly predicted to be **German** for English strings instead?\n",
    "### 2. Are there clear differences between the strings that the model predicted **English** correctly, and the strings the model incorrectly predicted to be **Dutch** for English strings instead?\n",
    "### 3. Are there clear differences between the strings that the model predicted **German** correctly, and the strings the model incorrectly predicted to be **English** for German strings instead?\n",
    "### 4. Are there clear differences between the strings that the model predicted **German** correctly, and the strings the model incorrectly predicted to be **Dutch** for German strings instead?\n",
    "### 5. Are there clear differences between the strings that the model predicted **Dutch** correctly, and the strings the model incorrectly predicted to be **English** for Dutch strings instead?\n",
    "### 6. Are there clear differences between the strings that the model predicted **Dutch** correctly, and the strings the model incorrectly predicted to be **German** for Dutch strings instead?\n",
    "### 7. If you were to modify your preprocessing steps, what do you think you could do to improve the model?\n",
    "### 8. Can you think of another possible model for language detection that might work better?\n"
   ]
  },
  {
   "cell_type": "code",
   "execution_count": null,
   "metadata": {},
   "outputs": [],
   "source": []
  }
 ],
 "metadata": {
  "kernelspec": {
   "display_name": "Python 3",
   "language": "python",
   "name": "python3"
  },
  "language_info": {
   "codemirror_mode": {
    "name": "ipython",
    "version": 3
   },
   "file_extension": ".py",
   "mimetype": "text/x-python",
   "name": "python",
   "nbconvert_exporter": "python",
   "pygments_lexer": "ipython3",
   "version": "3.7.5"
  }
 },
 "nbformat": 4,
 "nbformat_minor": 4
}

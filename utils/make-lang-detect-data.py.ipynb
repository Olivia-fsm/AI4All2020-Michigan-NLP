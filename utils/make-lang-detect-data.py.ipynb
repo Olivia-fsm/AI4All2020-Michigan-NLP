{
 "cells": [
  {
   "cell_type": "code",
   "execution_count": 1,
   "metadata": {},
   "outputs": [
    {
     "data": {
      "text/plain": [
       "'/Users/allielahnala/AI4All2020-Michigan-NLP'"
      ]
     },
     "execution_count": 1,
     "metadata": {},
     "output_type": "execute_result"
    }
   ],
   "source": [
    "import os\n",
    "os.chdir('../')\n",
    "os.getcwd()"
   ]
  },
  {
   "cell_type": "code",
   "execution_count": 2,
   "metadata": {},
   "outputs": [
    {
     "data": {
      "text/plain": [
       "['Dutch', 'German', 'English', 'Portuguese', 'French', 'Spanish']"
      ]
     },
     "execution_count": 2,
     "metadata": {},
     "output_type": "execute_result"
    }
   ],
   "source": [
    "languages = os.listdir('Data/data-lang-detect')\n",
    "languages"
   ]
  },
  {
   "cell_type": "code",
   "execution_count": 3,
   "metadata": {},
   "outputs": [
    {
     "name": "stdout",
     "output_type": "stream",
     "text": [
      "119\n",
      "119\n",
      "119\n",
      "119\n",
      "119\n",
      "119\n"
     ]
    }
   ],
   "source": [
    "for lang in languages:\n",
    "    with open('Data/data-lang-detect/'+lang) as f:\n",
    "        text = f.read().split('\\n')\n",
    "        print(len(text))"
   ]
  },
  {
   "cell_type": "code",
   "execution_count": 4,
   "metadata": {},
   "outputs": [],
   "source": [
    "import random\n",
    "train = {}\n",
    "test = {}\n",
    "\n",
    "\n",
    "for lang in languages:\n",
    "    with open('Data/data-lang-detect/'+lang) as f:\n",
    "        text = f.read().split('\\n')\n",
    "        random.shuffle(text)\n",
    "        train[lang] = text[:-12]\n",
    "        test[lang] = text[-12:]"
   ]
  },
  {
   "cell_type": "code",
   "execution_count": 5,
   "metadata": {},
   "outputs": [
    {
     "data": {
      "text/plain": [
       "{'Dutch': ['Zo is hij niet zoet, maar hartig; er zitten vaak groenten, en/of vlees en vis in en deeg is het belangrijkste ingrediënt.',\n",
       "  'In de wiskunde  Een specifiek model grafiek heet de taartgrafiek of -diagram (pie chart), vanwege de sterke gelijkenis met een in taartpunten gesneden taartvorm.',\n",
       "  \"In open lettergrepen verglijdt o via ou tot eu: focus 'vuur' > fou (9e eeuw) > feu (12e).\",\n",
       "  'Als voorbeelden van dit laatste denken we bijvoorbeeld aan technische automatisering in fabrieken, telecommunicatie, cybernetica, simulering van scheikundige processen, automatische raketsturing, spraakherkenning, biometrie, optimalisering van bedrijfsprocessen etc.',\n",
       "  'In geschreven teksten uit het midden van de 9e eeuw eindigen Oudfranse woorden nog op -us, -o of -a , maar dit veranderde al heel snel daarna in -s of -e.    Nasalen  Net als het Nieuwfrans kende ook het Oudfrans al genasaliseerde klinkers.',\n",
       "  'Syncope  Syncope van onbeklemtoonde lettergrepen moet al zijn begonnen in het Laatlatijn, maar het duurde eeuwen voordat dit proces was voltooid.',\n",
       "  'In de tijd van Plautus (ca.',\n",
       "  'Vakgebieden  De informatica bestaat zoals iedere andere wetenschap uit een grote verscheidenheid aan subdisciplines, waarvan de grenzen meestal zeer moeilijk te onderscheiden zijn.',\n",
       "  'De Grieken beschouwden het redeneren zelf als een soort spel dat aan bepaalde regels beantwoordt, zoals het syllogisme of de wet van de uitgesloten derde.',\n",
       "  \"Woorden uit de tekst van het Roelantslied zouden dan ongeveer zo hebben geklonken: faire ['fajrə], nuit [nujt].\",\n",
       "  'Wordt de taart bij een speciale gelegenheid (zoals een verjaardag, bruiloft of jubileum) gegeten, dan wordt er vaak een toepasselijke tekst op aangebracht door middel van glazuur, marsepein of chocolade.',\n",
       "  'ue verandert in [œ] (gesloten) ~ [ø] (open) (cuer > cœur) ui verandert in [ɥi] (nuit [nɥit]).Het wegvallen van de s voor medeklinkers leidde tot verlenging van de voorafgaande klinker.'],\n",
       " 'German': ['In Europa wird Kuchen traditionell nachmittags zu Kaffee und Kuchen oder zum Sonntagskaffee verzehrt.',\n",
       "  'Andere Zeiten wie das Imperfekt entwickelten sich lautgesetzlich aus dem Latein: lat.',\n",
       "  'camisia ‚leinerner, unmittelbar auf dem Körper getragener Überwurf‘), tôle ‚Blech‘ und table ‚Tisch‘ (lat.',\n",
       "  'Die Auswirkungen dieser Einsichten auf die KI-Forschung, aber auch auf Lerntheorie, Didaktik und andere Gebiete werden noch diskutiert.',\n",
       "  '(PDF, ca.',\n",
       "  'Um dem entgegenzuwirken, verabschiedete der Bundesausschuss für wissenschaftliche Forschung am 26. April 1967 das Programm für die Förderung der Forschung und Entwicklung auf dem Gebiet der Datenverarbeitung für öffentliche Aufgaben.',\n",
       "  'Sie beschäftigt sich mit der systematischen Erstellung von Software.',\n",
       "  'Informatik und Gesellschaft   „Informatik und Gesellschaft“ (IuG) ist ein Teilbereich der Wissenschaft Informatik und erforscht die Rolle der Informatik auf dem Weg zur Informationsgesellschaft.',\n",
       "  'Echtzeitsysteme sind darauf ausgelegt, dass sie auf bestimmte zeitkritisch ablaufende Prozesse der Außenwelt mit angemessener Reaktionsgeschwindigkeit rechtzeitig antworten können.',\n",
       "  '2 Bände.',\n",
       "  'Passion Christi (Ende 10.',\n",
       "  '1969 folgte der Studiengang \"Datentechnik (Technische Informatik)\" und 1970 ein Mathematikstudiengang, der mit dem Grad \"Diplomingenieur im Fach Mathematik mit Schwerpunkt Informatik\" abschloss.'],\n",
       " 'English': ['See also     Notes     References     Further reading     External links   Computer science at Curlie Scholarly Societies in Computer Science What is Computer Science?',\n",
       "  'Kibler, William (1984).',\n",
       "  'While the diversity of represented styles is limited, cake mixes do provide an easy and readily available homemade option for cooks who are not accomplished bakers.',\n",
       "  'The best-known poet and composer of ars nova secular music and chansons of the incipient Middle French period was Guillaume de Machaut.',\n",
       "  'Human–computer interaction   Research that develops theories, principles, and guidelines for user interface designers, so they can create satisfactory user experiences with desktop, laptop, and mobile devices.',\n",
       "  \"Initiation à la morphologie historique de l'ancien français.\",\n",
       "  'In Early Old French, the diphthongs described above as \"rising\" may have been falling diphthongs (/ie̯/, /yj/, /ue̯/).',\n",
       "  'Codes are used for data compression, cryptography, error detection and correction, and more recently also for network coding.',\n",
       "  'In 1843, during the translation of a French article on the Analytical Engine, Ada Lovelace wrote, in one of the many notes she included, an algorithm to compute the Bernoulli numbers, which is considered to be the first published algorithm ever specifically tailored for implementation on a computer.',\n",
       "  'Lodge, R. Anthony (1993).',\n",
       "  'Traditionally it is a two-layer cake filled and topped with strawberries or raspberries and whipped cream.',\n",
       "  'Larger cakes may be made to be sliced and served as part of a meal or social function.'],\n",
       " 'Portuguese': ['Tais tópicos são abordados no que atualmente chama-se Tese de Church-Turing, uma hipótese sobre a natureza de dispositivos mecânicos de cálculo.',\n",
       "  'Existem também bolos salgados, como bolos de carne por exemplo.',\n",
       "  '(1934).',\n",
       "  'Variedades de bolos \\t\\t \\t\\t \\t\\t \\t\\t \\t\\t \\t\\t \\t\\t    História  Acredita-se que a confecção de bolos exista desde o Egito Antigo na forma de pães adoçados com xarope de frutas, tâmaras e passas.',\n",
       "  'O dispositivo de Babbage se diferenciava por ser programável, algo imprescindível para qualquer computador moderno.',\n",
       "  'A denominação teria vindo de bola e os bolos teriam formas associadas a lua, a cone.',\n",
       "  'Um bom número de outros povos germânicos, incluindo os Burgúndios, estavam em atividade no território naquela época; as línguas germânicas faladas pelos francos, burgúndios e outros não eram línguas escritas e, pelo tempo decorrido, é freqüentemente difícil identificar de qual fonte germânica específica provém uma dada palavra em francês.',\n",
       "  'Na maior parte das vezes, a massa para bolos leva aromatizantes, como a casca de limão ralada e levedura ou fermento.',\n",
       "  'Por exemplo, o latim clássico equus foi substituído no idioma comum pelo latim vulgar caballus, derivado do gaulês caballos (Delamare 2003 p. 96), dando assim o francês moderno cheval, o italiano cavallo, o espanhol caballo, o português cavalo, o romeno cal e (por empréstimo do francês), o inglês cavalry (\"cavalaria\").',\n",
       "  'Finalmente, esta linguagem declinou e acabou por converter-se no francês legal, um jargão falado por advogados, o qual era usado no Direito inglês até o reinado de Carlos II.',\n",
       "  'Tais livros apresentaram novos conceitos para definir sequências de passos para completar tarefas, como aplicações de aritmética e álgebra.',\n",
       "  'Para além da farinha, que pode ser de trigo, milho, batata, maisena ou qualquer outra fécula, e do adoçante (normalmente açúcar, mas pode ser um adoçante artificial, para os diabéticos poderem comê-lo), os bolos podem levar ainda um tipo de ingrediente aglutinante, geralmente ovos, mas que pode ser gluten ou amido, uma gordura que pode ser manteiga, margarina ou óleo, puré de fruta e um líquido, que pode ser leite, água ou sumo de frutos.'],\n",
       " 'French': ['Se sont ainsi formées ce qui deviendra au cours des siècles les langues romanes suite à de nouveaux emprunts, notamment germaniques au nord et arabes au sud, qui constituent des superstrats.',\n",
       "  \"Un moniteur est un écran utilisant les mêmes techniques que celles utilisées par les téléviseurs, qui affiche des graphiques et des textes provenant de l'appareil informatique.\",\n",
       "  'La thèse de Church postule que ces modèles de calcul équivalents décrivent complètement et mathématiquement tout ce qui est physiquement calculable.',\n",
       "  \"L'anglais international est la langue véhiculaire du secteur d'activité.\",\n",
       "  \"Ces distinctions temporelles de l'état de la langue ont cependant été définies de façon relativement arbitraire et récente par les linguistes.\",\n",
       "  'Sciences de la vie : biologie, santé.',\n",
       "  \"Il en résulte qu'au Ve siècle, l'accentuation proparoxytonique est pratiquement éliminée en Gaule, alors que l'italien et l'espagnol la connaissent encore aujourd'hui.\",\n",
       "  'Plus tard, aux alentours de 1230, une version en prose rassemble en un seul roman les multiples épisodes de la légende.',\n",
       "  \"Les expressions « science informatique », « informatique fondamentale » ou « informatique théorique » désignent sans ambiguïté la science, tandis que « technologies de l'information » ou « technologies de l'information et de la communication » désignent le secteur industriel et ses produits.\",\n",
       "  \"La création de logiciels applicatifs représente 52 % de l'activité.\",\n",
       "  \"Cette loi, basée sur l'observation, prédit que la complexité des microprocesseurs devrait doubler tous les deux ans.\",\n",
       "  'Sciences sociales : psychologie, sociologie, économie.'],\n",
       " 'Spanish': ['[50]\\u200b El campo involucra disciplinas de la ingeniería en computación y la ingeniería eléctrica, la selección y la interconexión de los componentes de hardware para crear los equipos que cumplen funciones, de rendimiento, y costes.',\n",
       "  'Pero es con las matemáticas con las que se considera que tiene un grado mayor de relación.',\n",
       "  '[9]\\u200b En 1673 Gottfried Leibniz creó una calculadora mecánica digital, llamada Stepped Reckoner.',\n",
       "  'Informática en salud     Ciencia de la información  El campo estudia la estructura, algoritmos, comportamiento e interacciones de los sistemas naturales y artificiales que guardan, procesan, acceden a y comunican información.',\n",
       "  'En las palabras de origen latino,  /h/ se perdó temprano, como en om, uem, del latín homō.',\n",
       "  'La investigación en ciencias de la computación también suele relacionarse con otras disciplinas, como la ciencia cognitiva, la física (véase computación cuántica), la lingüística, etc.',\n",
       "  'Es un enfoque sistemático para el diseño de software, que implica la aplicación de prácticas de ingeniería de software.',\n",
       "  \"Introduction à l'ancien français (en (francés)).\",\n",
       "  'Por ejemplo, se estima que en la víspera de la Revolución Francesa, las tres cuartas partes de la población francesa hablaban una lengua distinta del francés.',\n",
       "  'Arquitectura de computadoras   La arquitectura de computadores u organización de computadoras digitales es el diseño conceptual y la estructura operacional fundamental de un sistema cómputo.',\n",
       "  'Al final de palabra, /ɲ/ se perdió posteriormente, dejando una vocal nasalizada.',\n",
       "  'Del resto, esta asignatura, así como su aspecto fonético histórico, es obligatoria para los CAPES de letras modernos, agregada a las letras clásicas y a la gramática, concurso que se pasa en Francia para enseñar la lengua y la literatura francesas.']}"
      ]
     },
     "execution_count": 5,
     "metadata": {},
     "output_type": "execute_result"
    }
   ],
   "source": [
    "test"
   ]
  },
  {
   "cell_type": "code",
   "execution_count": 7,
   "metadata": {},
   "outputs": [],
   "source": [
    "import json\n",
    "with open(\"Data/data-lang-detect/train.json\",'w+') as f:\n",
    "    json.dump(train, f)\n",
    "with open(\"Data/data-lang-detect/test.json\",'w+') as f:\n",
    "    json.dump(test, f)"
   ]
  },
  {
   "cell_type": "code",
   "execution_count": null,
   "metadata": {},
   "outputs": [],
   "source": []
  }
 ],
 "metadata": {
  "kernelspec": {
   "display_name": "Python 3",
   "language": "python",
   "name": "python3"
  },
  "language_info": {
   "codemirror_mode": {
    "name": "ipython",
    "version": 3
   },
   "file_extension": ".py",
   "mimetype": "text/x-python",
   "name": "python",
   "nbconvert_exporter": "python",
   "pygments_lexer": "ipython3",
   "version": "3.7.5"
  }
 },
 "nbformat": 4,
 "nbformat_minor": 4
}

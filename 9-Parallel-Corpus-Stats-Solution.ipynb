{
 "cells": [
  {
   "cell_type": "markdown",
   "metadata": {},
   "source": [
    "![Save2Drive](https://raw.githubusercontent.com/alahnala/AI4All2020-Michigan-NLP/master/slides/save2drive.png)"
   ]
  },
  {
   "cell_type": "markdown",
   "metadata": {},
   "source": [
    "# Word Level Translation\n",
    "\n",
    "In this notebook, you will learn how to use some simple probabilities and a corpus of parallel text from two languages to create your own word translator."
   ]
  },
  {
   "cell_type": "markdown",
   "metadata": {},
   "source": [
    "### Run the cell below to get setup"
   ]
  },
  {
   "cell_type": "code",
   "execution_count": 1,
   "metadata": {},
   "outputs": [],
   "source": [
    "import os, sys\n",
    "IN_COLAB = 'google.colab' in sys.modules\n",
    "if IN_COLAB:\n",
    "  !rm -r AI4All2020-Michigan-NLP\n",
    "  !git clone https://github.com/alahnala/AI4All2020-Michigan-NLP.git\n",
    "  !cp -r AI4All2020-Michigan-NLP/utils/ .\n",
    "  !cp -r AI4All2020-Michigan-NLP/Data/ .\n",
    "  !cp -r AI4All2020-Michigan-NLP/slides/ .\n",
    "  !cp -r AI4All2020-Michigan-NLP/Experiment-Report-Templates/ .\n",
    "  !echo \"=== Files Copied ===\""
   ]
  },
  {
   "cell_type": "markdown",
   "metadata": {},
   "source": [
    "# Data - we're going to start with a parallel corpus of English and Spanish sentences\n",
    "\n",
    "A parallel corpus is one that has the same text in two different languages.\n",
    "Let's load the data and ta a look at the data"
   ]
  },
  {
   "cell_type": "code",
   "execution_count": 2,
   "metadata": {},
   "outputs": [],
   "source": [
    "with open(\"Data/mt-data/eng-spa.txt\") as f:\n",
    "    english_spanish = f.read().split('\\n')"
   ]
  },
  {
   "cell_type": "code",
   "execution_count": 3,
   "metadata": {},
   "outputs": [
    {
     "data": {
      "text/plain": [
       "'Go.\\tVe.\\tCC-BY 2.0 (France) Attribution: tatoeba.org #2877272 (CM) & #4986655 (cueyayotl)'"
      ]
     },
     "execution_count": 3,
     "metadata": {},
     "output_type": "execute_result"
    }
   ],
   "source": [
    "english_spanish[0]"
   ]
  },
  {
   "cell_type": "markdown",
   "metadata": {},
   "source": [
    "# Now let's parse the data to make a list of spanish sentences and a list of english sentences"
   ]
  },
  {
   "cell_type": "code",
   "execution_count": 4,
   "metadata": {},
   "outputs": [
    {
     "name": "stderr",
     "output_type": "stream",
     "text": [
      "100%|██████████| 124326/124326 [00:00<00:00, 534149.77it/s]\n"
     ]
    }
   ],
   "source": [
    "from tqdm import tqdm\n",
    "\n",
    "def parse_lines(lines):\n",
    "    l1_sentences = []\n",
    "    l2_sentences = []\n",
    "    for line in tqdm(lines):\n",
    "        try:\n",
    "            parts = line.split('\\t')\n",
    "            l1 = parts[0]\n",
    "            l2 = parts[1]\n",
    "        except:\n",
    "            continue\n",
    "        l1_sentences.append(l1)\n",
    "        l2_sentences.append(l2)\n",
    "\n",
    "    return l1_sentences, l2_sentences\n",
    "\n",
    "\n",
    "english, spanish = parse_lines(english_spanish)\n",
    "    "
   ]
  },
  {
   "cell_type": "markdown",
   "metadata": {},
   "source": [
    "pmi(a,b) = log(p(a,b)/(p(a)p(b)))"
   ]
  },
  {
   "cell_type": "markdown",
   "metadata": {},
   "source": [
    "# We are going to implement a function that compute pointwise mutual information\n",
    "\n",
    "pmi(a,b) = log(p(a,b)/(p(a)p(b)))\n",
    "\n",
    "[Pointwise Mutual Information](https://en.wikipedia.org/wiki/Pointwise_mutual_information)"
   ]
  },
  {
   "cell_type": "markdown",
   "metadata": {},
   "source": [
    "Let's start writing what components we need in order to compute the PMI of `token_A` and of `token_B`"
   ]
  },
  {
   "cell_type": "code",
   "execution_count": 5,
   "metadata": {},
   "outputs": [],
   "source": [
    "def pointwise_mutual_information(token_A, token_B, A_B_probabilities, A_probabilities, B_Probabilities):\n",
    "    return"
   ]
  },
  {
   "cell_type": "markdown",
   "metadata": {},
   "source": [
    "We need to keep track of the probabilities of A, and the probabilties of B, so these are really just unigram dictionaries for each language"
   ]
  },
  {
   "cell_type": "markdown",
   "metadata": {},
   "source": [
    "# Let's prepare a preprocessing function to obtain tokens"
   ]
  },
  {
   "cell_type": "code",
   "execution_count": 6,
   "metadata": {},
   "outputs": [
    {
     "name": "stdout",
     "output_type": "stream",
     "text": [
      "Go.\n",
      "['go', '.']\n",
      "Ve.\n",
      "['ve', '.']\n"
     ]
    },
    {
     "name": "stderr",
     "output_type": "stream",
     "text": [
      "[nltk_data] Downloading package punkt to\n",
      "[nltk_data]     /Users/allielahnala/nltk_data...\n",
      "[nltk_data]   Package punkt is already up-to-date!\n"
     ]
    }
   ],
   "source": [
    "import nltk\n",
    "nltk.download('punkt')\n",
    "from nltk.tokenize import word_tokenize\n",
    "\n",
    "def preprocess(string, language):\n",
    "    tokens = word_tokenize(string.lower(), language=language)\n",
    "    return tokens\n",
    "\n",
    "test_string = english[0]\n",
    "tokens = preprocess(test_string, 'english')\n",
    "print(test_string)\n",
    "print(tokens)\n",
    "\n",
    "test_string = spanish[0]\n",
    "tokens = preprocess(test_string, 'spanish')\n",
    "print(test_string)\n",
    "print(tokens)"
   ]
  },
  {
   "cell_type": "code",
   "execution_count": 7,
   "metadata": {},
   "outputs": [
    {
     "data": {
      "text/plain": [
       "'Go.'"
      ]
     },
     "execution_count": 7,
     "metadata": {},
     "output_type": "execute_result"
    }
   ],
   "source": [
    "english[2]"
   ]
  },
  {
   "cell_type": "markdown",
   "metadata": {},
   "source": [
    "# Count the english unigrams and spanish unigrams"
   ]
  },
  {
   "cell_type": "code",
   "execution_count": 8,
   "metadata": {},
   "outputs": [
    {
     "name": "stderr",
     "output_type": "stream",
     "text": [
      "100%|██████████| 124325/124325 [00:17<00:00, 6911.37it/s]\n",
      "100%|██████████| 124325/124325 [00:17<00:00, 6934.94it/s]\n"
     ]
    }
   ],
   "source": [
    "from collections import defaultdict\n",
    "\n",
    "english_unigrams = defaultdict(lambda:0)\n",
    "\n",
    "for sentence in tqdm(english):\n",
    "    tokens = preprocess(sentence, 'english')\n",
    "    for token in tokens:\n",
    "        english_unigrams[token] += 1\n",
    "        \n",
    "spanish_unigrams = defaultdict(lambda:0)\n",
    "\n",
    "for sentence in tqdm(spanish):\n",
    "    tokens = preprocess(sentence, 'spanish')\n",
    "    for token in tokens:\n",
    "        spanish_unigrams[token] += 1"
   ]
  },
  {
   "cell_type": "markdown",
   "metadata": {},
   "source": [
    "# Compute English and Spanish unigram probabilities"
   ]
  },
  {
   "cell_type": "code",
   "execution_count": 9,
   "metadata": {},
   "outputs": [
    {
     "name": "stderr",
     "output_type": "stream",
     "text": [
      "100%|██████████| 13617/13617 [00:00<00:00, 1178966.18it/s]\n",
      "100%|██████████| 27497/27497 [00:00<00:00, 1074363.54it/s]\n"
     ]
    }
   ],
   "source": [
    "english_unigram_probabilities = {}\n",
    "total_english_unigrams = sum(english_unigrams.values())\n",
    "for token in tqdm(english_unigrams):\n",
    "    token_count = english_unigrams[token]\n",
    "    english_unigram_probabilities[token] = token_count / total_english_unigrams\n",
    "    \n",
    "spanish_unigram_probabilities = {}\n",
    "total_spanish_unigrams = sum(spanish_unigrams.values())\n",
    "for token in tqdm(spanish_unigrams):\n",
    "    token_count = spanish_unigrams[token]\n",
    "    spanish_unigram_probabilities[token] = token_count / total_spanish_unigrams\n",
    "    "
   ]
  },
  {
   "cell_type": "markdown",
   "metadata": {},
   "source": [
    "# To compute probabilities of encountering english unigram and spanish unigram in parallel sentences, first count the co-occurrences"
   ]
  },
  {
   "cell_type": "code",
   "execution_count": 10,
   "metadata": {},
   "outputs": [
    {
     "name": "stderr",
     "output_type": "stream",
     "text": [
      "124325it [00:37, 3274.44it/s]\n"
     ]
    }
   ],
   "source": [
    "en_es_cooc_count = defaultdict(lambda:defaultdict(lambda:0))\n",
    "\n",
    "for english_sentence, spanish_sentence in tqdm(zip(english, spanish)):\n",
    "    english_tokens = preprocess(english_sentence, 'english')\n",
    "    spanish_tokens = preprocess(spanish_sentence, 'spanish')\n",
    "    \n",
    "    english_token_set = set(english_tokens)\n",
    "    spanish_token_set = set(spanish_tokens)\n",
    "    \n",
    "    for english_token in list(english_token_set):\n",
    "        for spanish_token in spanish_token_set:\n",
    "            en_es_cooc_count[english_token][spanish_token] += 1\n",
    "            \n",
    "    \n",
    "    \n"
   ]
  },
  {
   "cell_type": "markdown",
   "metadata": {},
   "source": [
    "# Now compute the probabilities"
   ]
  },
  {
   "cell_type": "code",
   "execution_count": 11,
   "metadata": {},
   "outputs": [
    {
     "name": "stderr",
     "output_type": "stream",
     "text": [
      "100%|██████████| 13617/13617 [00:00<00:00, 282646.62it/s]\n",
      "100%|██████████| 13617/13617 [00:01<00:00, 13262.37it/s]\n"
     ]
    }
   ],
   "source": [
    "en_es_cooc_probabilities = defaultdict(lambda:defaultdict(lambda:0))\n",
    "\n",
    "# first compute the total pairs\n",
    "total_pairs = 0\n",
    "for en_tok in tqdm(en_es_cooc_count):\n",
    "    total_pairs += sum(en_es_cooc_count[en_tok].values())\n",
    "      \n",
    "for en_tok in tqdm(en_es_cooc_count):\n",
    "    for es_tok in en_es_cooc_count[en_tok]:\n",
    "        top = en_es_cooc_count[en_tok][es_tok]\n",
    "        bottom = total_pairs\n",
    "        \n",
    "        pr = top / bottom\n",
    "        en_es_cooc_probabilities[en_tok][es_tok] = pr\n",
    "    "
   ]
  },
  {
   "cell_type": "markdown",
   "metadata": {},
   "source": [
    "# Now we have all of the components we need for the PMI function"
   ]
  },
  {
   "cell_type": "code",
   "execution_count": 12,
   "metadata": {},
   "outputs": [
    {
     "name": "stderr",
     "output_type": "stream",
     "text": [
      "100%|██████████| 13617/13617 [00:01<00:00, 7252.46it/s]\n"
     ]
    }
   ],
   "source": [
    "def pointwise_mutual_information(token_A, token_B, A_B_probabilities, A_probabilities, B_Probabilities):\n",
    "    top = A_B_probabilities[token_A][token_B]\n",
    "    bottom = A_probabilities[token_A] * B_Probabilities[token_B]\n",
    "    \n",
    "    pmi = top / bottom\n",
    "    return pmi\n",
    "\n",
    "en_es_pmis = {}\n",
    "\n",
    "for en_tok in tqdm(en_es_cooc_count):\n",
    "    for es_tok in en_es_cooc_count[en_tok]:\n",
    "        pmi = pointwise_mutual_information(en_tok, es_tok, en_es_cooc_probabilities, english_unigram_probabilities, spanish_unigram_probabilities)\n",
    "        pair = en_tok + '\\t' + es_tok\n",
    "        en_es_pmis[pair] = pmi\n",
    "        "
   ]
  },
  {
   "cell_type": "code",
   "execution_count": 22,
   "metadata": {},
   "outputs": [
    {
     "name": "stdout",
     "output_type": "stream",
     "text": [
      "PMI of \"go\" and \"vaya\": 18.698165913571383\n"
     ]
    }
   ],
   "source": [
    "from math import log\n",
    "\n",
    "def pointwise_mutual_information(token_A, token_B, A_B_probabilities, A_probabilities, B_Probabilities):\n",
    "    top = A_B_probabilities[token_A][token_B]\n",
    "    bottom = A_probabilities[token_A] * B_Probabilities[token_B]\n",
    "    \n",
    "    pmi = log(top / bottom)\n",
    "    return pmi\n",
    "\n",
    "test_pmi = pointwise_mutual_information('go', 'vaya', test_A_B_Probabilities, test_A_Probabilities, test_B_Probabilities)\n",
    "print('PMI of \"go\" and \"vaya\":', test_pmi)\n"
   ]
  },
  {
   "cell_type": "code",
   "execution_count": 19,
   "metadata": {},
   "outputs": [
    {
     "data": {
      "text/plain": [
       "79"
      ]
     },
     "execution_count": 19,
     "metadata": {},
     "output_type": "execute_result"
    }
   ],
   "source": [
    "test_A_B_Probabilities = {'go':{'vaya':79}}\n",
    "test_A_Probabilities = {'go': 0.003110732656094365}\n",
    "test_B_Probabilities = {'vaya': 0.0001924217344287494}\n",
    "\n",
    "\n",
    "en_es_cooc_count['go']['vaya']"
   ]
  },
  {
   "cell_type": "code",
   "execution_count": 16,
   "metadata": {},
   "outputs": [
    {
     "data": {
      "text/plain": [
       "0.003110732656094365"
      ]
     },
     "execution_count": 16,
     "metadata": {},
     "output_type": "execute_result"
    }
   ],
   "source": [
    "english_unigram_probabilities['go']"
   ]
  },
  {
   "cell_type": "code",
   "execution_count": 17,
   "metadata": {},
   "outputs": [
    {
     "data": {
      "text/plain": [
       "0.0001924217344287494"
      ]
     },
     "execution_count": 17,
     "metadata": {},
     "output_type": "execute_result"
    }
   ],
   "source": [
    "spanish_unigram_probabilities['vaya']"
   ]
  },
  {
   "cell_type": "markdown",
   "metadata": {},
   "source": [
    "# Sort our dictionary of PMI's to see the pairs with high pmi scores"
   ]
  },
  {
   "cell_type": "code",
   "execution_count": null,
   "metadata": {},
   "outputs": [],
   "source": [
    "import operator\n",
    "\n",
    "sorted_pmis = sorted(en_es_pmis.items(), key=operator.itemgetter(1), reverse=True)"
   ]
  },
  {
   "cell_type": "markdown",
   "metadata": {},
   "source": [
    "# Print out the words with the top ten highest PMI's"
   ]
  },
  {
   "cell_type": "code",
   "execution_count": null,
   "metadata": {},
   "outputs": [],
   "source": [
    "for pair, pmi in sorted_pmis[:10]:\n",
    "    parts = pair.split('\\t')\n",
    "    en = parts[0]\n",
    "    es = parts[1]\n",
    "    print(en, '--->', es)"
   ]
  },
  {
   "cell_type": "code",
   "execution_count": null,
   "metadata": {},
   "outputs": [],
   "source": []
  }
 ],
 "metadata": {
  "kernelspec": {
   "display_name": "Python 3",
   "language": "python",
   "name": "python3"
  },
  "language_info": {
   "codemirror_mode": {
    "name": "ipython",
    "version": 3
   },
   "file_extension": ".py",
   "mimetype": "text/x-python",
   "name": "python",
   "nbconvert_exporter": "python",
   "pygments_lexer": "ipython3",
   "version": "3.7.5"
  }
 },
 "nbformat": 4,
 "nbformat_minor": 4
}

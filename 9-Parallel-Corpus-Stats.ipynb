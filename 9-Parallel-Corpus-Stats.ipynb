{
 "cells": [
  {
   "cell_type": "markdown",
   "metadata": {},
   "source": [
    "# Cross-lingual Token Co-occurrence"
   ]
  },
  {
   "cell_type": "code",
   "execution_count": null,
   "metadata": {},
   "outputs": [],
   "source": [
    "with open(\"Data/mt-data/eng-spa.txt\") as f:\n",
    "    english_spanish = f.read().split('\\n')"
   ]
  },
  {
   "cell_type": "markdown",
   "metadata": {},
   "source": [
    "# Let's take a look at the data"
   ]
  },
  {
   "cell_type": "code",
   "execution_count": null,
   "metadata": {},
   "outputs": [],
   "source": [
    "english_spanish[0]"
   ]
  },
  {
   "cell_type": "markdown",
   "metadata": {},
   "source": [
    "# Now let's parse the data to make a list of spanish sentences and a list of english sentences"
   ]
  },
  {
   "cell_type": "code",
   "execution_count": null,
   "metadata": {},
   "outputs": [],
   "source": [
    "from tqdm import tqdm\n",
    "\n",
    "def parse_lines(lines):\n",
    "    l1_sentences = []\n",
    "    l2_sentences = []\n",
    "    for line in tqdm(lines):\n",
    "        try:\n",
    "            parts = line.split('\\t')\n",
    "            l1 = parts[0]\n",
    "            l2 = parts[1]\n",
    "        except:\n",
    "            continue\n",
    "        l1_sentences.append(l1)\n",
    "        l2_sentences.append(l2)\n",
    "\n",
    "    return l1_sentences, l2_sentences\n",
    "\n",
    "\n",
    "english, spanish = parse_lines(english_spanish)\n",
    "    "
   ]
  },
  {
   "cell_type": "markdown",
   "metadata": {},
   "source": [
    "pmi(a,b) = log(p(a,b)/(p(a)p(b)))"
   ]
  },
  {
   "cell_type": "markdown",
   "metadata": {},
   "source": [
    "# We are going to implement a function that compute pointwise mutual information\n",
    "\n",
    "pmi(a,b) = log(p(a,b)/(p(a)p(b)))\n",
    "\n",
    "[Pointwise Mutual Information](https://en.wikipedia.org/wiki/Pointwise_mutual_information)"
   ]
  },
  {
   "cell_type": "markdown",
   "metadata": {},
   "source": [
    "Let's start writing what components we need in order to compute the PMI of `token_A` and of `token_B`"
   ]
  },
  {
   "cell_type": "code",
   "execution_count": null,
   "metadata": {},
   "outputs": [],
   "source": [
    "def pointwise_mutual_information(token_A, token_B, A_B_probabilities, A_probabilities, B_Probabilities):\n",
    "    return"
   ]
  },
  {
   "cell_type": "markdown",
   "metadata": {},
   "source": [
    "We need to keep track of the probabilities of A, and the probabilties of B, so these are really just unigram dictionaries for each language"
   ]
  },
  {
   "cell_type": "markdown",
   "metadata": {},
   "source": [
    "# Let's prepare a preprocessing function to obtain tokens"
   ]
  },
  {
   "cell_type": "code",
   "execution_count": null,
   "metadata": {},
   "outputs": [],
   "source": [
    "import nltk\n",
    "nltk.download('punkt')\n",
    "from nltk.tokenize import word_tokenize\n",
    "\n",
    "def preprocess(string, language):\n",
    "    tokens = word_tokenize(string.lower(), language=language)\n",
    "    return tokens\n",
    "\n",
    "test_string = english[0]\n",
    "tokens = preprocess(test_string, 'english')\n",
    "print(test_string)\n",
    "print(tokens)\n",
    "\n",
    "test_string = spanish[0]\n",
    "tokens = preprocess(test_string, 'spanish')\n",
    "print(test_string)\n",
    "print(tokens)"
   ]
  },
  {
   "cell_type": "code",
   "execution_count": null,
   "metadata": {},
   "outputs": [],
   "source": [
    "english[2]"
   ]
  },
  {
   "cell_type": "markdown",
   "metadata": {},
   "source": [
    "# Count the english unigrams and spanish unigrams"
   ]
  },
  {
   "cell_type": "code",
   "execution_count": null,
   "metadata": {},
   "outputs": [],
   "source": [
    "from collections import defaultdict\n",
    "\n",
    "english_unigrams = defaultdict(lambda:0)\n",
    "\n",
    "for sentence in tqdm(english):\n",
    "    tokens = preprocess(sentence, 'english')\n",
    "    for token in tokens:\n",
    "        english_unigrams[token] += 1\n",
    "        \n",
    "spanish_unigrams = defaultdict(lambda:0)\n",
    "\n",
    "for sentence in tqdm(spanish):\n",
    "    tokens = preprocess(sentence, 'spanish')\n",
    "    for token in tokens:\n",
    "        spanish_unigrams[token] += 1"
   ]
  },
  {
   "cell_type": "markdown",
   "metadata": {},
   "source": [
    "# Compute English and Spanish unigram probabilities"
   ]
  },
  {
   "cell_type": "code",
   "execution_count": null,
   "metadata": {},
   "outputs": [],
   "source": [
    "english_unigram_probabilities = {}\n",
    "total_english_unigrams = sum(english_unigrams.values())\n",
    "for token in tqdm(english_unigrams):\n",
    "    token_count = english_unigrams[token]\n",
    "    english_unigram_probabilities[token] = token_count / total_english_unigrams\n",
    "    \n",
    "spanish_unigram_probabilities = {}\n",
    "total_spanish_unigrams = sum(spanish_unigrams.values())\n",
    "for token in tqdm(spanish_unigrams):\n",
    "    token_count = spanish_unigrams[token]\n",
    "    spanish_unigram_probabilities[token] = token_count / total_spanish_unigrams\n",
    "    "
   ]
  },
  {
   "cell_type": "markdown",
   "metadata": {},
   "source": [
    "# To compute probabilities of encountering english unigram and spanish unigram in parallel sentences, first count the co-occurrences"
   ]
  },
  {
   "cell_type": "code",
   "execution_count": null,
   "metadata": {},
   "outputs": [],
   "source": [
    "en_es_cooc_count = defaultdict(lambda:defaultdict(lambda:0))\n",
    "\n",
    "for english_sentence, spanish_sentence in tqdm(zip(english, spanish)):\n",
    "    english_tokens = preprocess(english_sentence, 'english')\n",
    "    spanish_tokens = preprocess(spanish_sentence, 'spanish')\n",
    "    \n",
    "    english_token_set = set(english_tokens)\n",
    "    spanish_token_set = set(spanish_tokens)\n",
    "    \n",
    "    for english_token in list(english_token_set):\n",
    "        for spanish_token in spanish_token_set:\n",
    "            en_es_cooc_count[english_token][spanish_token] += 1\n",
    "            \n",
    "    \n",
    "    \n"
   ]
  },
  {
   "cell_type": "markdown",
   "metadata": {},
   "source": [
    "# Now compute the probabilities"
   ]
  },
  {
   "cell_type": "code",
   "execution_count": null,
   "metadata": {},
   "outputs": [],
   "source": [
    "en_es_cooc_probabilities = defaultdict(lambda:defaultdict(lambda:0))\n",
    "\n",
    "# first compute the total pairs\n",
    "total_pairs = 0\n",
    "for en_tok in tqdm(en_es_cooc_count):\n",
    "    total_pairs += sum(en_es_cooc_count[en_tok].values())\n",
    "      \n",
    "for en_tok in tqdm(en_es_cooc_count):\n",
    "    for es_tok in en_es_cooc_count[en_tok]:\n",
    "        top = en_es_cooc_count[en_tok][es_tok]\n",
    "        bottom = total_pairs\n",
    "        \n",
    "        pr = top / bottom\n",
    "        en_es_cooc_probabilities[en_tok][es_tok] = pr\n",
    "    "
   ]
  },
  {
   "cell_type": "markdown",
   "metadata": {},
   "source": [
    "# Now we have all of the components we need for the PMI function"
   ]
  },
  {
   "cell_type": "code",
   "execution_count": null,
   "metadata": {},
   "outputs": [],
   "source": [
    "def pointwise_mutual_information(token_A, token_B, A_B_probabilities, A_probabilities, B_Probabilities):\n",
    "    top = A_B_probabilities[token_A][token_B]\n",
    "    bottom = A_probabilities[token_A] * B_Probabilities[token_B]\n",
    "    \n",
    "    pmi = top / bottom\n",
    "    return pmi\n",
    "\n",
    "en_es_pmis = {}\n",
    "\n",
    "for en_tok in tqdm(en_es_cooc_count):\n",
    "    for es_tok in en_es_cooc_count[en_tok]:\n",
    "        pmi = pointwise_mutual_information(en_tok, es_tok, en_es_cooc_probabilities, english_unigram_probabilities, spanish_unigram_probabilities)\n",
    "        pair = en_tok + '\\t' + es_tok\n",
    "        en_es_pmis[pair] = pmi\n",
    "        "
   ]
  },
  {
   "cell_type": "markdown",
   "metadata": {},
   "source": [
    "# Sort our dictionary of PMI's to see the pairs with high pmi scores"
   ]
  },
  {
   "cell_type": "code",
   "execution_count": null,
   "metadata": {},
   "outputs": [],
   "source": [
    "import operator\n",
    "\n",
    "sorted_pmis = sorted(en_es_pmis.items(), key=operator.itemgetter(1), reverse=True)"
   ]
  },
  {
   "cell_type": "markdown",
   "metadata": {},
   "source": [
    "# Print out the words with the top ten highest PMI's"
   ]
  },
  {
   "cell_type": "code",
   "execution_count": null,
   "metadata": {},
   "outputs": [],
   "source": [
    "for pair, pmi in sorted_pmis[:10]:\n",
    "    parts = pair.split('\\t')\n",
    "    en = parts[0]\n",
    "    es = parts[1]\n",
    "    print(en, '--->', es)"
   ]
  }
 ],
 "metadata": {
  "kernelspec": {
   "display_name": "Python 3",
   "language": "python",
   "name": "python3"
  },
  "language_info": {
   "codemirror_mode": {
    "name": "ipython",
    "version": 3
   },
   "file_extension": ".py",
   "mimetype": "text/x-python",
   "name": "python",
   "nbconvert_exporter": "python",
   "pygments_lexer": "ipython3",
   "version": "3.7.5"
  }
 },
 "nbformat": 4,
 "nbformat_minor": 4
}
